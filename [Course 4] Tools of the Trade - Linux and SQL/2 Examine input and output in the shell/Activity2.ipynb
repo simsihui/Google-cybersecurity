{
 "cells": [
  {
   "cell_type": "markdown",
   "metadata": {},
   "source": [
    "# Activity: Examine input and output in the shell\n",
    "\n",
    "## Introduction\n",
    "\n",
    "In this lab, you’ll use the `echo` command to examine how input is received and how output is returned in the shell. You’ll also use other Linux commands in the Bash shell to explore more about input and output and other basic functions of the shell. \n",
    "\n",
    "### What you’ll do:\n",
    "\n",
    "* Generate output in the shell the echo command\n",
    "  \n",
    "* Perform basic calculations the expr command\n",
    "* Clear the shell window the clear command\n",
    "* Explore the commands further\n",
    "\n",
    "<br>\n",
    "\n",
    "### Task 1. Generate output with the `echo` command\n",
    "The echo command in the Bash shell outputs a specified string of text. In this task, you’ll use the echo command to generate output in the Bash shell.\n",
    "\n",
    "1. When `echo hello` and `echo \"hello\"` are ENTERed \n",
    "\n",
    "The `hello` string should be returned with no quotation.\n",
    "\n",
    "<br>\n",
    "\n",
    "### Task 2. Generate output with the `expr` command\n",
    "Use the `expr` command to generate some additional output in the Bash shell. The expr command performs basic mathematical calculations and can be useful when you need to quickly perform a calculation.\n",
    "\n",
    "\n",
    "1. ADD / SUBTRACT / MULTIPLY / DIVIDE using the `expr` command \n",
    "\n",
    "* Type and ENTER `expr 32 + 8` to ADD\n",
    "  \n",
    "* Type and ENTER `expr 32 - 8` to SUBTRACT\n",
    "* Type and ENTER `expr 32 * 8` to MULTIPLY\n",
    "* Type and ENTER `expr 32 / 8` to DIVIDE\n",
    "\n",
    "Output can only be a whole number.\n",
    "\n",
    "<br>\n",
    "\n",
    "### Task 3. Clear the Bash shell\n",
    "Use the `clear` command to clear the Bash shell of all existing output. This allows you to start with the cursor at the top of the Bash shell window.\n",
    "\n",
    "*When you work in a shell environment, the screen can fill with previous input and output data. This can make it difficult to process what you’re working on. Clearing the screen allows you to create a clutter-free text environment to allow you to focus on what is important at that point in time.* \n",
    "\n",
    "Type `clear` into the shell and ENTER\n"
   ]
  }
 ],
 "metadata": {
  "language_info": {
   "name": "python"
  }
 },
 "nbformat": 4,
 "nbformat_minor": 2
}
