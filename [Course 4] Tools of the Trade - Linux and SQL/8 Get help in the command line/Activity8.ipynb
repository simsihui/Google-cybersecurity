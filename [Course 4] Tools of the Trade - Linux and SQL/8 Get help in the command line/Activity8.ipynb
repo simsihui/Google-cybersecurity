{
 "cells": [
  {
   "cell_type": "markdown",
   "metadata": {},
   "source": [
    "# Activity: Get help in the command line\n",
    "## Introduction\n",
    "In this lab, you’ll use the `man`, `whatis`, and `apropos` commands to practice finding answers to Linux questions in the command line. These skills are useful for many different security tasks.\n",
    "\n",
    "**Tasks:**\n",
    "1. Explore commands that help you learn more about other commands\n",
    "2. Find options for a command\n",
    "3. Determine the differences between two commands\n",
    "4. Identify the command needed to create a new group\n",
    "\n",
    "<br>\n",
    "<hr>\n",
    "\n",
    "### **Task 1. Learn more about commands**\n",
    "In this task, you need to explore a few commands you can use in the shell to learn more about the functionality of other commands.\n",
    "\n",
    "1. Don't remember what the `cat` command does:\n",
    "   * `whatis cat`\n",
    "\n",
    "Run the `whatis` command to get a short description of `cat`.\n",
    "\n",
    "2. Want more details about `cat` and all its options:\n",
    "   * `man cat`\n",
    "\n",
    "3. You remembered there's a command that prints just the first part of a file, but can't remember the exact command:\n",
    "   * `apropos -a first part file`\n",
    "\n",
    "<br>\n",
    "\n",
    "### **Task 2. Explore the useradd command**\n",
    "In this task, imagine that you want to set the expiration date for a temporary user account. You know that you need to use the `useradd` command for this, but you’re not quite sure how to complete the task. You realize it might involve adding an option to the command.\n",
    "\n",
    "* `man useradd`\n",
    "\n",
    "<br>\n",
    "\n",
    "### **Task 3. Explore the rm and rmdir commands**\n",
    "In this task, you need to determine the difference between the `rm` and `rmdir` commands.\n",
    "* `whatis rmdir`\n",
    "* `whatis rm`\n",
    "\n",
    "<br>\n",
    "\n",
    "### **Task 4. Determine which command to use**\n",
    "In this task, imagine that you need to create a new group but you can’t remember what command to use. You need to identify a command that will do this by searching for it through keywords. In this case, use the keywords `create new group`.\n",
    "\n",
    "* `apropos -a create new group`"
   ]
  }
 ],
 "metadata": {
  "language_info": {
   "name": "python"
  }
 },
 "nbformat": 4,
 "nbformat_minor": 2
}
